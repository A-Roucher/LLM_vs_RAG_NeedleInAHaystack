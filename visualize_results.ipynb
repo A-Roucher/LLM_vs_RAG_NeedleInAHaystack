{
 "cells": [
  {
   "cell_type": "code",
   "execution_count": null,
   "metadata": {},
   "outputs": [],
   "source": [
    "!pip install plotly\n",
    "!pip install pandas"
   ]
  },
  {
   "cell_type": "code",
   "execution_count": null,
   "metadata": {},
   "outputs": [],
   "source": [
    "rez = original_table_rag.loc[(original_table_rag['version'] == 2) & (original_table_rag['score'] < 10)]"
   ]
  },
  {
   "cell_type": "code",
   "execution_count": null,
   "metadata": {},
   "outputs": [],
   "source": [
    "rez['has_paris'] = rez.apply(lambda row: 'Paris' in row['context'], axis=1)"
   ]
  },
  {
   "cell_type": "code",
   "execution_count": null,
   "metadata": {},
   "outputs": [],
   "source": [
    "original_table_rag.loc[(original_table_rag['version'] == 2) & (original_table_rag['score'] < 10), 'context'].value_counts()"
   ]
  },
  {
   "cell_type": "code",
   "execution_count": null,
   "metadata": {},
   "outputs": [],
   "source": [
    "import json\n",
    "import pandas as pd\n",
    "import plotly.express as px\n",
    "\n",
    "with open('output/results_gpt_rag.json', 'r') as file:\n",
    "    results = json.load(file)\n",
    "\n",
    "original_table_rag = pd.DataFrame(results)\n",
    "table_rag = original_table_rag.pivot_table(index='depth_percent', columns='context_length', values='score') / 10\n",
    "mask = (table_rag >= 0.3)\n",
    "table_rag = table_rag.where(mask, 0)\n",
    "\n",
    "table_long_context = pd.read_csv('original_results/gpt4.csv', index_col=0) / 10"
   ]
  },
  {
   "cell_type": "code",
   "execution_count": null,
   "metadata": {},
   "outputs": [],
   "source": [
    "table_long_context['depth_percent'] = table_long_context.index"
   ]
  },
  {
   "cell_type": "code",
   "execution_count": null,
   "metadata": {},
   "outputs": [],
   "source": [
    "table_long_context = table_long_context.melt(id_vars='depth_percent', var_name='context_length', value_name='score')\n",
    "table_long_context['context_length'] = table_long_context['context_length'].astype(int)"
   ]
  },
  {
   "cell_type": "code",
   "execution_count": null,
   "metadata": {},
   "outputs": [],
   "source": [
    "grouped_long_context = table_long_context.groupby([pd.cut(table_long_context['depth_percent'], 5), pd.cut(table_long_context['context_length'], 4)])['score'].mean().unstack()\n",
    "grouped_long_context"
   ]
  },
  {
   "cell_type": "code",
   "execution_count": null,
   "metadata": {},
   "outputs": [],
   "source": [
    "table_rag['depth_percent'] = table_rag.index.astype(int)\n",
    "table_rag = table_rag.melt(id_vars='depth_percent', var_name='context_length', value_name='score')\n",
    "table_rag['context_length'] = table_rag['context_length'].astype(int)\n",
    "grouped_rag = table_rag.groupby([pd.cut(table_rag['depth_percent'], 5), pd.cut(table_rag['context_length'], 4)])['score'].mean().unstack()\n",
    "grouped_rag"
   ]
  },
  {
   "cell_type": "code",
   "execution_count": null,
   "metadata": {},
   "outputs": [],
   "source": [
    "series_long_context = table_long_context.groupby(pd.cut(table_long_context['context_length'], 5))['score'].mean()\n",
    "series_long_context = pd.DataFrame(series_long_context).rename(columns={'score': 'average_score'}).T"
   ]
  },
  {
   "cell_type": "code",
   "execution_count": null,
   "metadata": {},
   "outputs": [],
   "source": [
    "series_rag = table_rag.groupby(pd.cut(table_rag['context_length'], 5))['score'].mean()\n",
    "series_rag = pd.DataFrame(series_rag).rename(columns={'score': 'average_score'}).T"
   ]
  },
  {
   "cell_type": "code",
   "execution_count": null,
   "metadata": {},
   "outputs": [],
   "source": [
    "series_long_context.columns = [str(col) for col in series_long_context.columns]\n",
    "series_rag.columns = [str(col) for col in series_rag.columns]"
   ]
  },
  {
   "cell_type": "code",
   "execution_count": null,
   "metadata": {},
   "outputs": [],
   "source": [
    "comb = pd.concat([series_long_context, series_rag], axis=0).T\n",
    "comb.columns = ['long_context', 'rag']"
   ]
  },
  {
   "cell_type": "code",
   "execution_count": null,
   "metadata": {},
   "outputs": [],
   "source": [
    "comb = pd.DataFrame(comb.unstack().reset_index())\n",
    "comb.columns = ['model', 'context_length', 'average_score']"
   ]
  },
  {
   "cell_type": "code",
   "execution_count": null,
   "metadata": {},
   "outputs": [],
   "source": [
    "comb"
   ]
  },
  {
   "cell_type": "code",
   "execution_count": null,
   "metadata": {},
   "outputs": [],
   "source": [
    "fig = px.line(comb, color=\"model\", x='context_length', y='average_score', title='Accuracy of Retrieval - RAG vs Long-Context GPT4', width=600)\n",
    "fig.update_layout(yaxis_range=[0, 1], yaxis_tickformat = ',.0%')"
   ]
  },
  {
   "cell_type": "markdown",
   "metadata": {},
   "source": [
    "### Plot as heatmap"
   ]
  },
  {
   "cell_type": "code",
   "execution_count": null,
   "metadata": {},
   "outputs": [],
   "source": [
    "import matplotlib.pyplot as plt\n",
    "import numpy as np\n",
    "\n",
    "import matplotlib\n",
    "import matplotlib as mpl\n",
    "\n",
    "def display_table(table):\n",
    "    fig, ax = plt.subplots()\n",
    "    im = ax.imshow(table)\n",
    "\n",
    "    # Show all ticks and label them with the respective list entries\n",
    "    ax.set_xticks(np.arange(len(table.columns)), labels=table.columns)\n",
    "    ax.set_yticks(np.arange(len(table.index)), labels=table.index)\n",
    "\n",
    "    # Rotate the tick labels and set their alignment.\n",
    "    plt.setp(ax.get_xticklabels(), rotation=45, ha=\"right\",\n",
    "            rotation_mode=\"anchor\")\n",
    "\n",
    "    # Loop over data dimensions and create text annotations.\n",
    "    for i in range(len(table.index)):\n",
    "        for j in range(len(table.columns)):\n",
    "            text = ax.text(j, i, table.values[i, j],\n",
    "                        ha=\"center\", va=\"center\", color=\"w\")\n",
    "\n",
    "    fig.tight_layout()\n",
    "    plt.show()\n",
    "\n",
    "display_table(grouped_rag)\n",
    "display_table(grouped_long_context)"
   ]
  },
  {
   "cell_type": "markdown",
   "metadata": {},
   "source": [
    "### Plot as graphs"
   ]
  },
  {
   "cell_type": "code",
   "execution_count": null,
   "metadata": {},
   "outputs": [],
   "source": [
    "!pip install plotly"
   ]
  },
  {
   "cell_type": "code",
   "execution_count": null,
   "metadata": {},
   "outputs": [],
   "source": [
    "graph_rag = pd.DataFrame(grouped_rag.stack()).reset_index()\n",
    "graph_rag['depth_percent'] = graph_rag['depth_percent'].apply(lambda x: x.mid).astype(int)\n",
    "graph_rag['context_length'] = graph_rag['context_length'].apply(lambda x: x.mid).astype(int)\n",
    "\n",
    "graph_long_context = pd.DataFrame(grouped_long_context.stack()).reset_index()\n",
    "graph_long_context['depth_percent'] = graph_long_context['depth_percent'].apply(lambda x: x.mid).astype(int)\n",
    "graph_long_context['context_length'] = graph_long_context['context_length'].apply(lambda x: x.mid).astype(int)"
   ]
  },
  {
   "cell_type": "code",
   "execution_count": null,
   "metadata": {},
   "outputs": [],
   "source": [
    "import plotly.express as px\n",
    "\n",
    "px.line(graph_rag, x='depth_percent', color='context_length', y=0, width=600)\n",
    "\n"
   ]
  },
  {
   "cell_type": "code",
   "execution_count": null,
   "metadata": {},
   "outputs": [],
   "source": [
    "px.line(graph_long_context, x='depth_percent', color='context_length', y=0, width=600)"
   ]
  }
 ],
 "metadata": {
  "kernelspec": {
   "display_name": "pytorch",
   "language": "python",
   "name": "python3"
  },
  "language_info": {
   "codemirror_mode": {
    "name": "ipython",
    "version": 3
   },
   "file_extension": ".py",
   "mimetype": "text/x-python",
   "name": "python",
   "nbconvert_exporter": "python",
   "pygments_lexer": "ipython3",
   "version": "3.10.13"
  }
 },
 "nbformat": 4,
 "nbformat_minor": 2
}

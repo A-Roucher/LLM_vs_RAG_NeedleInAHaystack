{
 "cells": [
  {
   "cell_type": "code",
   "execution_count": null,
   "metadata": {},
   "outputs": [],
   "source": [
    "!pip install openai\n",
    "!pip install accelerate"
   ]
  },
  {
   "cell_type": "code",
   "execution_count": null,
   "metadata": {},
   "outputs": [],
   "source": [
    "!pip install transformers\n",
    "!pip install faiss-gpu\n",
    "!pip install load_dotenv\n",
    "!pip install tiktoken\n",
    "!pip install langchain\n",
    "!pip install sentence-transformers\n"
   ]
  },
  {
   "cell_type": "code",
   "execution_count": null,
   "metadata": {},
   "outputs": [],
   "source": [
    "%load_ext autoreload\n",
    "%autoreload 2\n",
    "\n",
    "import dotenv\n",
    "import os\n",
    "import numpy as np\n",
    "import openai\n",
    "\n",
    "from scripts import generate_context, retrieve_relevant_excerpts\n",
    "from embeddings import retrieve_relevant_excerpts_quickly\n",
    "\n",
    "dotenv.load_dotenv()"
   ]
  },
  {
   "cell_type": "code",
   "execution_count": null,
   "metadata": {},
   "outputs": [],
   "source": [
    "needle_question_couples = [\n",
    "    (\"\\nThe best thing to do in San Francisco is eat a sandwich and sit in Dolores Park on a sunny day.\\n\", \"What is the most fun thing to do in San Francisco?\"),\n",
    "    (\"\\nThe most inspiring thing to do near the Hugging Face office in Paris is to visit the Louvre museum.\\n\", \"What is the most inspiring thing to do near the Hugging Face office in Paris?\"),\n",
    "]\n",
    "\n",
    "needle, question = needle_question_couples[0]"
   ]
  },
  {
   "cell_type": "markdown",
   "metadata": {},
   "source": [
    "# 0. Test retrieval"
   ]
  },
  {
   "cell_type": "code",
   "execution_count": null,
   "metadata": {},
   "outputs": [],
   "source": [
    "context = generate_context(needle, 100000, 30)\n",
    "\n",
    "from langchain.embeddings import HuggingFaceEmbeddings\n",
    "\n",
    "hf_embedding = HuggingFaceEmbeddings(\n",
    "    model_name=\"BAAI/bge-large-en-v1.5\",\n",
    "    encode_kwargs={'normalize_embeddings': False},\n",
    "    model_kwargs={'device': 'cuda'},\n",
    ")"
   ]
  },
  {
   "cell_type": "markdown",
   "metadata": {},
   "source": [
    "### On instance"
   ]
  },
  {
   "cell_type": "code",
   "execution_count": null,
   "metadata": {},
   "outputs": [],
   "source": [
    "documents = retrieve_relevant_excerpts(context, question, hf_embedding)\n",
    "print(len(documents))\n",
    "print(documents[:100])"
   ]
  },
  {
   "cell_type": "markdown",
   "metadata": {},
   "source": [
    "### TEI"
   ]
  },
  {
   "cell_type": "code",
   "execution_count": null,
   "metadata": {},
   "outputs": [],
   "source": [
    "documents = await retrieve_relevant_excerpts_quickly(context, question, hf_embedding)\n",
    "print(len(documents))\n",
    "print(documents[:100])"
   ]
  },
  {
   "cell_type": "markdown",
   "metadata": {},
   "source": [
    "# 1. Calculations"
   ]
  },
  {
   "cell_type": "code",
   "execution_count": null,
   "metadata": {},
   "outputs": [],
   "source": [
    "from langchain import PromptTemplate, HuggingFaceHub, LLMChain\n",
    "from scripts import result_exists, evaluate_response\n",
    "from langchain.chat_models import ChatOpenAI\n",
    "from langchain.schema import HumanMessage, SystemMessage\n",
    "import json\n",
    "from tqdm.notebook import tqdm\n",
    "\n",
    "# The code will check to see if a context_length, depth percent and version number have already been checked yet\n",
    "# Change the version # if you would like to run the results multiple times.\n",
    "# If you're just testing, then leave as version=1\n",
    "results_version = 1 \n",
    "\n",
    "# This will produce a list of context lengths for each experiment iteration. Make sure the max context length is within the bounds of your models limits.\n",
    "context_lengths = np.round(np.linspace(1000, 128000, num=15, endpoint=True)).astype(int)\n",
    "\n",
    "# This will product a list of document depths to place your random statement (needle) at.\n",
    "# Suggestion: Try out different distributions (like a sigmoid) to test non-evenly space intervals\n",
    "document_depth_percents = np.round(np.linspace(0, 100, num=15, endpoint=True)).astype(int)\n",
    "\n",
    "# The model we are testing. As of now it's set up for chat models with OpenAI\n",
    "template = \"\"\"\n",
    "You are a helpful AI bot that answers questions for a user. Keep your response short and direct.\n",
    "\n",
    "You will have to answer this question based only on the context: {question}\n",
    "\n",
    "Here is the context: {context}\n",
    "\n",
    "Answer the question: {question}\n",
    "\n",
    "Don't give information outside the document or repeat your findings\n",
    "\"\"\"\n",
    "prompt = PromptTemplate(template=template, input_variables=[\"question\", \"context\"])\n",
    "llm = HuggingFaceHub(repo_id=\"HuggingFaceH4/zephyr-7b-beta\", model_kwargs={\"do_sample\":False})\n",
    "model_to_test = LLMChain(prompt=prompt, llm=llm)\n",
    "\n",
    "# This will get logged on your results\n",
    "model_to_test_description = 'embed'\n",
    "\n",
    "evaluation_model  = ChatOpenAI(model=\"gpt-4\", temperature=0, openai_api_key = os.getenv('OPENAI_API_KEY', 'YourAPIKey'))"
   ]
  },
  {
   "cell_type": "code",
   "execution_count": null,
   "metadata": {},
   "outputs": [],
   "source": [
    "len(context)"
   ]
  },
  {
   "cell_type": "code",
   "execution_count": null,
   "metadata": {},
   "outputs": [],
   "source": [
    "response = model_to_test.run(question=question, context=context)"
   ]
  },
  {
   "cell_type": "code",
   "execution_count": null,
   "metadata": {},
   "outputs": [],
   "source": [
    "from transformers import pipeline\n",
    "import torch\n",
    "\n",
    "pipe = pipeline(\"text-generation\", model=\"HuggingFaceH4/zephyr-7b-beta\", torch_dtype=torch.bfloat16, devic=\"cuda\")\n",
    "\n",
    "messages = [\n",
    "    {\n",
    "        \"role\": \"system\",\n",
    "        \"content\": \"You are a helpful AI bot that answers questions for a user. Keep your response short and direct.\",\n",
    "    },\n",
    "    {\"role\": \"system\", \"content\": \"You will have to answer a question based only on the following context: {context}\"},\n",
    "    {\"role\": \"user\", \"content\": \"Answer the question: {question} - Don't give information outside the document or repeat your findings.\"},\n",
    "]\n",
    "prompt = pipe.tokenizer.apply_chat_template(messages, tokenize=False, add_generation_prompt=True)\n",
    "outputs = pipe(prompt, max_new_tokens=256)\n"
   ]
  },
  {
   "cell_type": "code",
   "execution_count": null,
   "metadata": {},
   "outputs": [],
   "source": [
    "from langchain.llms import HuggingFacePipeline\n",
    "\n",
    "llm = HuggingFacePipeline.from_model_id(\n",
    "    model_id=\"HuggingFaceH4/zephyr-7b-beta\",\n",
    "    task=\"text2text-generation\",\n",
    "    model_kwargs={\"temperature\": 0, \"max_length\": 1000},\n",
    ")"
   ]
  },
  {
   "cell_type": "code",
   "execution_count": null,
   "metadata": {},
   "outputs": [],
   "source": [
    "model_to_test.run(question=question, context=\"OK\")"
   ]
  },
  {
   "cell_type": "code",
   "execution_count": null,
   "metadata": {},
   "outputs": [],
   "source": [
    "\n",
    "\n",
    "# Run through each iteration of context_lengths and depths\n",
    "for depth_percent in tqdm(document_depth_percents):\n",
    "    for context_length in context_lengths:\n",
    "        # Load results from file. \n",
    "        try:\n",
    "            with open('output/results.json', 'r') as f:\n",
    "                results = json.load(f)\n",
    "        except FileNotFoundError:\n",
    "            results = []\n",
    "            pass\n",
    "\n",
    "        # Checks to see if you've already checked a length/percent/version.\n",
    "        # This helps if the program stop running and you want to restart later\n",
    "        if result_exists(results, context_length, depth_percent, results_version, model_to_test_description):\n",
    "            continue\n",
    "\n",
    "        # Go generate the required length context and place your needle statement in\n",
    "        context = generate_context(needle, context_length, depth_percent)\n",
    "\n",
    "        context = await retrieve_relevant_excerpts_quickly(context, question, hf_embedding)\n",
    "        print(context[:100])\n",
    "\n",
    "        # Go see if the model can answer the question to pull out your random fact\n",
    "        response = model_to_test.run(question=question, context=context)\n",
    "\n",
    "        # Compare the reponse to the actual needle you placed\n",
    "        score = evaluate_response(response, needle, question, evaluation_model)\n",
    "\n",
    "        results.append({\n",
    "            # 'context' : context, # Uncomment this line if you'd like to save the context the model was asked to retrieve from. Warning: This will become very large.\n",
    "            'model' : model_to_test_description,\n",
    "            'context_length' : int(context_length),\n",
    "            'depth_percent' : int(depth_percent),\n",
    "            'version' : results_version,\n",
    "            'needle' : needle,\n",
    "            'model_response' : response.content,\n",
    "            'score' : score\n",
    "        })\n",
    "\n",
    "        print (f\"Result #: {len(results)}/{len(context_lengths) * len(document_depth_percents)}\")\n",
    "        print (f\"Context: {context_length} tokens\")\n",
    "        print (f\"Depth: {depth_percent}%\")\n",
    "        print (f\"Score: {score}\")\n",
    "        print (f\"Response: {response.content}\\n\")\n",
    "\n",
    "        # Save results to a JSON file each run\n",
    "        with open('outpout/results.json', 'w') as f:\n",
    "            json.dump(results, f)"
   ]
  },
  {
   "cell_type": "markdown",
   "metadata": {},
   "source": [
    "### GPT RAG"
   ]
  },
  {
   "cell_type": "code",
   "execution_count": null,
   "metadata": {},
   "outputs": [],
   "source": [
    "os.getenv('OPENAI_API_KEY', 'YourAPIKey')"
   ]
  },
  {
   "cell_type": "code",
   "execution_count": null,
   "metadata": {},
   "outputs": [],
   "source": [
    "model_to_test = ChatOpenAI(model='gpt-4', temperature=0, openai_api_key = os.getenv('OPENAI_API_KEY', 'YourAPIKey'))\n",
    "\n",
    "model_to_test_description = 'gpt_rag'\n",
    "\n",
    "# Run through each iteration of context_lengths and depths\n",
    "for depth_percent in tqdm(document_depth_percents):\n",
    "    for context_length in context_lengths:\n",
    "        # Load results from file. \n",
    "        try:\n",
    "            with open(f'output/results_{model_to_test_description}.json', 'r') as f:\n",
    "                results = json.load(f)\n",
    "        except FileNotFoundError:\n",
    "            results = []\n",
    "            pass\n",
    "\n",
    "        # Checks to see if you've already checked a length/percent/version.\n",
    "        # This helps if the program stop running and you want to restart later\n",
    "        if result_exists(results, context_length, depth_percent, results_version, model_to_test_description):\n",
    "            continue\n",
    "\n",
    "        # Go generate the required length context and place your needle statement in\n",
    "        context = generate_context(needle, context_length, depth_percent)\n",
    "\n",
    "        context = await retrieve_relevant_excerpts_quickly(context, question, hf_embedding)\n",
    "\n",
    "        # Prepare your message to send to the model you're going to evaluate\n",
    "        messages = [\n",
    "            SystemMessage(\n",
    "                content=\"You are a helpful AI bot that answers questions for a user. Keep your response short and direct\"\n",
    "            ),\n",
    "            HumanMessage(\n",
    "                # This is the PG essays with your needle/random statement placed in it\n",
    "                # This is your haystack with a needle placed in it.\n",
    "                content=f\"CONTEXT:\\n{context}\",\n",
    "            ),\n",
    "            HumanMessage(\n",
    "                # This is the question you'll ask to the model to tr≠≠y and retrieve your random statement/needle.\n",
    "                content=f\"{question} - Don't give information outside the document or repeat your findings\"\n",
    "            ),\n",
    "        ]\n",
    "\n",
    "        # Go see if the model can answer the question to pull out your random fact\n",
    "        response = model_to_test(messages)\n",
    "\n",
    "        # Compare the reponse to the actual needle you placed\n",
    "        score = evaluate_response(response, needle, question, evaluation_model)\n",
    "\n",
    "        results.append({\n",
    "            # 'context' : context, # Uncomment this line if you'd like to save the context the model was asked to retrieve from. Warning: This will become very large.\n",
    "            'model' : model_to_test_description,\n",
    "            'context_length' : int(context_length),\n",
    "            'depth_percent' : int(depth_percent),\n",
    "            'version' : results_version,\n",
    "            'needle' : needle,\n",
    "            'model_response' : response.content,\n",
    "            'score' : score\n",
    "        })\n",
    "\n",
    "        print (f\"Result #: {len(results)}/{len(context_lengths) * len(document_depth_percents)}\")\n",
    "        print (f\"Context: {context_length} tokens\")\n",
    "        print (f\"Depth: {depth_percent}%\")\n",
    "        print (f\"Score: {score}\")\n",
    "        print (f\"Response: {response.content}\\n\")\n",
    "\n",
    "        # Save results to a JSON file each run\n",
    "        with open(f'output/results_{model_to_test_description}.json', 'w') as f:\n",
    "            json.dump(results, f)"
   ]
  },
  {
   "cell_type": "markdown",
   "metadata": {},
   "source": [
    "### GPT Long Context"
   ]
  },
  {
   "cell_type": "code",
   "execution_count": null,
   "metadata": {},
   "outputs": [],
   "source": [
    "# The code will check to see if a context_length, depth percent and version number have already been checked yet\n",
    "# Change the version # if you would like to run the results multiple times.\n",
    "# If you're just testing, then leave as version=1\n",
    "results_version = 1 \n",
    "\n",
    "# This will produce a list of context lengths for each experiment iteration. Make sure the max context length is within the bounds of your models limits.\n",
    "context_lengths = np.round(np.linspace(1000, 128000, num=15, endpoint=True)).astype(int)\n",
    "\n",
    "# This will product a list of document depths to place your random statement (needle) at.\n",
    "# Suggestion: Try out different distributions (like a sigmoid) to test non-evenly space intervals\n",
    "document_depth_percents = np.round(np.linspace(0, 100, num=15, endpoint=True)).astype(int)\n",
    "\n",
    "# The model we are testing. As of now it's set up for chat models with OpenAI\n",
    "model_to_test = ChatOpenAI(model='gpt-4-1106-preview', temperature=0, openai_api_key = os.getenv('OPENAI_API_KEY', 'YourAPIKey'))\n",
    "\n",
    "\n",
    "# This will get logged on your results\n",
    "model_to_test_description = 'gpt4'\n",
    "\n",
    "evaluation_model  = ChatOpenAI(model=\"gpt-4\", temperature=0, openai_api_key = os.getenv('OPENAI_API_KEY', 'YourAPIKey'))\n",
    "\n",
    "# Run through each iteration of context_lengths and depths\n",
    "for context_length in context_lengths:\n",
    "    for depth_percent in document_depth_percents:\n",
    "        # Load results from file. \n",
    "        try:\n",
    "            with open('output/results.json', 'r') as f:\n",
    "                results = json.load(f)\n",
    "        except FileNotFoundError:\n",
    "            results = []\n",
    "            pass\n",
    "\n",
    "        # Checks to see if you've already checked a length/percent/version.\n",
    "        # This helps if the program stop running and you want to restart later\n",
    "        if result_exists(results, context_length, depth_percent, results_version, model_to_test_description):\n",
    "            continue\n",
    "\n",
    "        # Go generate the required length context and place your needle statement in\n",
    "        context = generate_context(needle, context_length, depth_percent)\n",
    "\n",
    "        # Prepare your message to send to the model you're going to evaluate\n",
    "        messages = [\n",
    "            SystemMessage(\n",
    "                content=\"You are a helpful AI bot that answers questions for a user. Keep your response short and direct\"\n",
    "            ),\n",
    "            HumanMessage(\n",
    "                # This is the PG essays with your needle/random statement placed in it\n",
    "                # This is your haystack with a needle placed in it.\n",
    "                content=context\n",
    "            ),\n",
    "            HumanMessage(\n",
    "                # This is the question you'll ask to the model to tr≠≠y and retrieve your random statement/needle.\n",
    "                content=\"What is the most fun thing to do in San Francico based on the context? Don't give information outside the document or repeat your findings\"\n",
    "            ),\n",
    "        ]\n",
    "\n",
    "        # Go see if the model can answer the question to pull out your random fact\n",
    "        response = model_to_test(messages)\n",
    "\n",
    "        # Compare the reponse to the actual needle you placed\n",
    "        score = evaluate_response(response, needle, question_to_ask, evaluation_model)\n",
    "\n",
    "        results.append({\n",
    "            # 'context' : context, # Uncomment this line if you'd like to save the context the model was asked to retrieve from. Warning: This will become very large.\n",
    "            'model' : model_to_test_description,\n",
    "            'context_length' : int(context_length),\n",
    "            'depth_percent' : int(depth_percent),\n",
    "            'version' : results_version,\n",
    "            'needle' : needle,\n",
    "            'model_response' : response.content,\n",
    "            'score' : score\n",
    "        })\n",
    "\n",
    "        print (f\"Result #: {len(results)}/{len(context_lengths) * len(document_depth_percents)}\")\n",
    "        print (f\"Context: {context_length} tokens\")\n",
    "        print (f\"Depth: {depth_percent}%\")\n",
    "        print (f\"Score: {score}\")\n",
    "        print (f\"Response: {response.content}\\n\")\n",
    "\n",
    "        # Save results to a JSON file each run\n",
    "        with open('outpout/results.json', 'w') as f:\n",
    "            json.dump(results, f)\n",
    "\n",
    "        # Optional. Sleep for a bit to stay under the rate limit\n",
    "        # Rate limit is 150K tokens/min so it's set at 120K for some cushion\n",
    "        sleep_time = (context_length / 120000)*60\n",
    "        # print (f\"Sleeping: {sleep_time}\\n\")\n",
    "        time.sleep(sleep_time)"
   ]
  }
 ],
 "metadata": {
  "kernelspec": {
   "display_name": "pytorch",
   "language": "python",
   "name": "python3"
  },
  "language_info": {
   "codemirror_mode": {
    "name": "ipython",
    "version": 3
   },
   "file_extension": ".py",
   "mimetype": "text/x-python",
   "name": "python",
   "nbconvert_exporter": "python",
   "pygments_lexer": "ipython3",
   "version": "3.10.13"
  }
 },
 "nbformat": 4,
 "nbformat_minor": 2
}
